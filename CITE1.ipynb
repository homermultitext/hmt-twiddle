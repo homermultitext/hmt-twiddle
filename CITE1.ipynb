{
 "cells": [
  {
   "cell_type": "code",
   "execution_count": 10,
   "metadata": {
    "collapsed": true
   },
   "outputs": [
    {
     "data": {
      "text/plain": [
       "\u001b[32mimport \u001b[39m\u001b[36mResolvers._\n",
       "\u001b[39m\n",
       "\u001b[36mciterepo\u001b[39m: \u001b[32mResolver\u001b[39m.\u001b[32mHttp\u001b[39m = \u001b[33mHttp\u001b[39m(\n",
       "  \u001b[32m\"neelsmith at bintray\"\u001b[39m,\n",
       "  \u001b[32m\"http://dl.bintray.com/neelsmith/maven\"\u001b[39m,\n",
       "  \u001b[32m\"[organisation]/[module]/[revision]/[artifact]-[revision](-[classifier]).[ext]\"\u001b[39m,\n",
       "  \u001b[32mtrue\u001b[39m,\n",
       "  None\n",
       ")\n",
       "\u001b[32mimport \u001b[39m\u001b[36m$ivy.$                                     \n",
       "\u001b[39m\n",
       "\u001b[32mimport \u001b[39m\u001b[36medu.holycross.shot.cite._\u001b[39m"
      ]
     },
     "execution_count": 10,
     "metadata": {},
     "output_type": "execute_result"
    }
   ],
   "source": [
    "import Resolvers._\n",
    "val citerepo = Resolver.Http(\"neelsmith at bintray\",\"http://dl.bintray.com/neelsmith/maven\",MavenPattern,true)\n",
    "interp.resolvers() = interp.resolvers() :+ citerepo\n",
    "\n",
    "import $ivy.`edu.holycross.shot.cite::xcite:2.1.0`\n",
    "import edu.holycross.shot.cite._"
   ]
  },
  {
   "cell_type": "markdown",
   "metadata": {},
   "source": [
    "The cell preceding this one sets up all imports necessary to work with the scala `cite` library, including the `CtsUrn` and `Cite2Urn` classes.  Copy its contents into any Jupyter notebook in which you want to use the `cite` library.  After running it, you can create and manipulate URN objects."
   ]
  },
  {
   "cell_type": "markdown",
   "metadata": {},
   "source": [
    "\n",
    "## Compare URNs for similarity\n",
    "\n",
    "In the following cell, we create two CtsUrns, and compare them using the similarity function `~~`."
   ]
  },
  {
   "cell_type": "code",
   "execution_count": 11,
   "metadata": {
    "collapsed": true
   },
   "outputs": [
    {
     "data": {
      "text/plain": [
       "\u001b[36mnotionalIliad\u001b[39m: \u001b[32mCtsUrn\u001b[39m = urn:cts:greekLit:tlg0012.tlg001:\n",
       "\u001b[36mvenetusA\u001b[39m: \u001b[32mCtsUrn\u001b[39m = urn:cts:greekLit:tlg0012.tlg001.msA:"
      ]
     },
     "execution_count": 11,
     "metadata": {},
     "output_type": "execute_result"
    }
   ],
   "source": [
    "val notionalIliad = CtsUrn(\"urn:cts:greekLit:tlg0012.tlg001:\")\n",
    "val venetusA = CtsUrn(\"urn:cts:greekLit:tlg0012.tlg001.msA:\")\n",
    "\n",
    "require (notionalIliad ~~ venetusA)\n"
   ]
  }
 ],
 "metadata": {
  "kernelspec": {
   "display_name": "Scala",
   "language": "scala",
   "name": "scala"
  },
  "language_info": {
   "codemirror_mode": "text/x-scala",
   "file_extension": ".scala",
   "mimetype": "text/x-scala",
   "name": "scala211",
   "nbconvert_exporter": "script",
   "pygments_lexer": "scala",
   "version": "2.11.11"
  }
 },
 "nbformat": 4,
 "nbformat_minor": 2
}
